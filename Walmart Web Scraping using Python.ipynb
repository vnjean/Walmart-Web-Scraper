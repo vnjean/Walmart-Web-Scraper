{
 "cells": [
  {
   "cell_type": "code",
   "execution_count": 3,
   "id": "3874949c",
   "metadata": {},
   "outputs": [],
   "source": [
    "# import Libraries\n",
    "\n",
    "from bs4 import BeautifulSoup\n",
    "import requests\n",
    "import smtplib\n",
    "import time\n",
    "import datetime"
   ]
  },
  {
   "cell_type": "code",
   "execution_count": 19,
   "id": "89684f46",
   "metadata": {},
   "outputs": [
    {
     "name": "stdout",
     "output_type": "stream",
     "text": [
      "\n",
      "   HAPPY BAY Women's Loose Caftan Maxi Nightwear Boho Dress 2X-3X Coral-AC269 - Walmart.com\n",
      "  \n",
      "\n",
      "                     $18.99\n",
      "                    \n"
     ]
    }
   ],
   "source": [
    "# Connect to Website\n",
    "\n",
    "URL = 'https://www.walmart.com/ip/HAPPY-BAY-Women-s-Loose-Caftan-Maxi-Nightwear-Boho-Dress-2X-3X-Coral-AC269/340275848?wmlspartner=wlpa&selectedSellerId=1088&adid=22222222222275055542_1201766895201451_pla&wmlspartner=wmtlabs&wl0=e&wl1=o&wl2=c&wl3=75110536858440&wl4=pla-4578710067658113&wl5=&wl6=&wl7=&wl10=Walmart&wl11=Online&wl12=340275848_10000001166&wl14=walmart&veh=sem&msclkid=615acd79703c1cd7f68ea8e9fe3676d5&gclid=615acd79703c1cd7f68ea8e9fe3676d5&gclsrc=3p.ds'\n",
    "headers = {\"User-Agent\": \"Mozilla/5.0 (Windows NT 10.0; Win64; x64) AppleWebKit/537.36 (KHTML, like Gecko) Chrome/120.0.0.0 Safari/537.36\", \"Accept-Encoding\":\"gzip, deflate\", \"Accept\":\"text/html,application/xhtml+xml,application/xml;q=0.9,*/*;q=0.8\", \"DNT\":\"1\",\"Connection\":\"close\", \"Upgrade-Insecure-Requests\":\"1\"}\n",
    "\n",
    "page = requests.get(URL, headers = headers)\n",
    "\n",
    "Soup1 = BeautifulSoup(page.content, \"html.parser\")\n",
    "\n",
    "Soup2 = BeautifulSoup(Soup1.prettify(), \"html.parser\")\n",
    "\n",
    "title = soup2.find('title').get_text()\n",
    "\n",
    "price = soup2.find(itemprop = \"price\").get_text()\n",
    "\n",
    "print(title)\n",
    "print(price)\n",
    "\n"
   ]
  },
  {
   "cell_type": "code",
   "execution_count": 20,
   "id": "27838bac",
   "metadata": {},
   "outputs": [
    {
     "name": "stdout",
     "output_type": "stream",
     "text": [
      "HAPPY BAY Women's Loose Caftan Maxi Nightwear Boho Dress 2X-3X Coral-AC269 - Walmart.com\n",
      "18.99\n"
     ]
    }
   ],
   "source": [
    "# Clean up the data a little bit\n",
    "\n",
    "price = price.strip()[1:]\n",
    "title = title.strip()\n",
    "\n",
    "print(title)\n",
    "print(price)"
   ]
  },
  {
   "cell_type": "code",
   "execution_count": 21,
   "id": "937b0f64",
   "metadata": {},
   "outputs": [
    {
     "name": "stdout",
     "output_type": "stream",
     "text": [
      "2023-12-30\n"
     ]
    }
   ],
   "source": [
    "# Create a Timestamp for your output to track when data was collected\n",
    "\n",
    "import datetime\n",
    "\n",
    "today = datetime.date.today()\n",
    "\n",
    "print(today)"
   ]
  },
  {
   "cell_type": "code",
   "execution_count": 22,
   "id": "90271886",
   "metadata": {},
   "outputs": [],
   "source": [
    "# Create CSV and write headers and data into the file\n",
    "\n",
    "import csv \n",
    "\n",
    "header = ['Title', 'Price', 'Date']\n",
    "data = [title, price, today]\n",
    "\n",
    "\n",
    "with open('WalmartWebScraperDataset.csv', 'w', newline='', encoding='UTF8') as f:\n",
    "    writer = csv.writer(f)\n",
    "    writer.writerow(header)\n",
    "    writer.writerow(data)\n",
    "    \n",
    "if(price < 14):\n",
    "    send_mail()"
   ]
  },
  {
   "cell_type": "code",
   "execution_count": 23,
   "id": "8f8c74f4",
   "metadata": {},
   "outputs": [
    {
     "name": "stdout",
     "output_type": "stream",
     "text": [
      "                                               Title  Price        Date\n",
      "0  HAPPY BAY Women's Loose Caftan Maxi Nightwear ...  18.99  2023-12-30\n"
     ]
    }
   ],
   "source": [
    "import pandas as pd\n",
    "\n",
    "df = pd.read_csv(r\"C:\\Users\\jeann\\WalmartWebScraperDataset.csv\") \n",
    "\n",
    "print(df)"
   ]
  },
  {
   "cell_type": "code",
   "execution_count": null,
   "id": "d0ded418",
   "metadata": {},
   "outputs": [],
   "source": [
    "# Now we are appending data to the csv\n",
    "\n",
    "with open('WalmartWebScraperDataset.csv', 'a+', newline='', encoding='UTF8') as f:\n",
    "    writer = csv.writer(f)\n",
    "    writer.writerow(data)"
   ]
  },
  {
   "cell_type": "code",
   "execution_count": 24,
   "id": "d120d1c4",
   "metadata": {},
   "outputs": [],
   "source": [
    "#Combine all of the above code into one function\n",
    "\n",
    "def check_price():\n",
    "    URL = 'https://www.walmart.com/ip/HAPPY-BAY-Women-s-Loose-Caftan-Maxi-Nightwear-Boho-Dress-2X-3X-Coral-AC269/340275848?wmlspartner=wlpa&selectedSellerId=1088&adid=22222222222275055542_1201766895201451_pla&wmlspartner=wmtlabs&wl0=e&wl1=o&wl2=c&wl3=75110536858440&wl4=pla-4578710067658113&wl5=&wl6=&wl7=&wl10=Walmart&wl11=Online&wl12=340275848_10000001166&wl14=walmart&veh=sem&msclkid=615acd79703c1cd7f68ea8e9fe3676d5&gclid=615acd79703c1cd7f68ea8e9fe3676d5&gclsrc=3p.ds'\n",
    "    headers = {\"User-Agent\": \"Mozilla/5.0 (Windows NT 10.0; Win64; x64) AppleWebKit/537.36 (KHTML, like Gecko) Chrome/120.0.0.0 Safari/537.36\", \"Accept-Encoding\":\"gzip, deflate\", \"Accept\":\"text/html,application/xhtml+xml,application/xml;q=0.9,*/*;q=0.8\", \"DNT\":\"1\",\"Connection\":\"close\", \"Upgrade-Insecure-Requests\":\"1\"}\n",
    "\n",
    "    page = requests.get(URL, headers=headers)\n",
    "\n",
    "    soup1 = BeautifulSoup(page.content, \"html.parser\")\n",
    "    soup2 = BeautifulSoup(soup1.prettify(), \"html.parser\")\n",
    "\n",
    "    title = soup2.find('title').get_text()\n",
    "    price = soup2.find(itemprop = \"price\").get_text()\n",
    "\n",
    "    price = price.strip()[1:]\n",
    "    title = title.strip()\n",
    "\n",
    "    import datetime\n",
    "\n",
    "    today = datetime.date.today()\n",
    "    \n",
    "    import csv \n",
    "\n",
    "    header = ['Title', 'Price', 'Date']\n",
    "    data = [title, price, today]\n",
    "\n",
    "    with open('WalmartWebScraperDataset.csv', 'a+', newline='', encoding='UTF8') as f:\n",
    "        writer = csv.writer(f)\n",
    "        writer.writerow(data)\n",
    "    "
   ]
  },
  {
   "cell_type": "code",
   "execution_count": null,
   "id": "5eec8ded",
   "metadata": {},
   "outputs": [],
   "source": [
    "# Runs check_price after a set time and inputs data into your CSV\n",
    "\n",
    "while(True):\n",
    "    check_price()\n",
    "    time.sleep(86400)"
   ]
  },
  {
   "cell_type": "code",
   "execution_count": 25,
   "id": "246f4d98",
   "metadata": {},
   "outputs": [
    {
     "name": "stdout",
     "output_type": "stream",
     "text": [
      "                                               Title  Price        Date\n",
      "0  HAPPY BAY Women's Loose Caftan Maxi Nightwear ...  18.99  2023-12-30\n"
     ]
    }
   ],
   "source": [
    "import pandas as pd\n",
    "\n",
    "df = pd.read_csv(r\"C:\\Users\\jeann\\WalmartWebScraperDataset.csv\") \n",
    "\n",
    "print(df)"
   ]
  },
  {
   "cell_type": "code",
   "execution_count": null,
   "id": "fc1595ca",
   "metadata": {},
   "outputs": [],
   "source": [
    "# If uou want to try sending yourself an email (just for fun) when a price hits below a certain level you can try it\n",
    "# out with this script\n",
    "\n",
    "def send_mail():\n",
    "    server = smtplib.SMTP_SSL('smtp.gmail.com',465)\n",
    "    server.ehlo()\n",
    "    #server.starttls()\n",
    "    server.ehlo()\n",
    "    server.login('jeann.valy@gmail.com','xxxxxxxxxxxxxx')\n",
    "    \n",
    "    subject = \"The Shirt you want is below $15! Now is your chance to buy!\"\n",
    "    body = \"Alex, This is the moment we have been waiting for. Now is your chance to pick up the shirt of your dreams. Don't mess it up! Link here: https://www.walmart.com/ip/HAPPY-BAY-Women-s-Loose-Caftan-Maxi-Nightwear-Boho-Dress-2X-3X-Coral-AC269/340275848?wmlspartner=wlpa&selectedSellerId=1088&adid=22222222222275055542_1201766895201451_pla&wmlspartner=wmtlabs&wl0=e&wl1=o&wl2=c&wl3=75110536858440&wl4=pla-4578710067658113&wl5=&wl6=&wl7=&wl10=Walmart&wl11=Online&wl12=340275848_10000001166&wl14=walmart&veh=sem&msclkid=615acd79703c1cd7f68ea8e9fe3676d5&gclid=615acd79703c1cd7f68ea8e9fe3676d5&gclsrc=3p.ds\n",
    "   \n",
    "    msg = f\"Subject: {subject}\\n\\n{body}\"\n",
    "    \n",
    "    server.sendmail(\n",
    "        'jeann.valy@gmail.com',\n",
    "        msg\n",
    "     \n",
    "    )"
   ]
  }
 ],
 "metadata": {
  "kernelspec": {
   "display_name": "Python 3 (ipykernel)",
   "language": "python",
   "name": "python3"
  },
  "language_info": {
   "codemirror_mode": {
    "name": "ipython",
    "version": 3
   },
   "file_extension": ".py",
   "mimetype": "text/x-python",
   "name": "python",
   "nbconvert_exporter": "python",
   "pygments_lexer": "ipython3",
   "version": "3.9.13"
  }
 },
 "nbformat": 4,
 "nbformat_minor": 5
}
